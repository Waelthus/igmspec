{
 "cells": [
  {
   "cell_type": "markdown",
   "metadata": {},
   "source": [
    "# Simple Scripts with IGMspec (v1.0)"
   ]
  },
  {
   "cell_type": "code",
   "execution_count": 1,
   "metadata": {
    "collapsed": true
   },
   "outputs": [],
   "source": [
    "# imports"
   ]
  },
  {
   "cell_type": "markdown",
   "metadata": {},
   "source": [
    "## Main call\n",
    "\n",
    "    wolverine.local> run_igmspec -h\n",
    "    usage: run_igmspec [-h] [--toler TOLER] [--meta] [--survey SURVEY]\n",
    "                       [--select SELECT]\n",
    "                       obj\n",
    "\n",
    "    igmspec script\n",
    "\n",
    "    positional arguments:\n",
    "      obj              Name of the Object,e.g. J081240+320808\n",
    "\n",
    "    optional arguments:\n",
    "      -h, --help       show this help message and exit\n",
    "      --toler TOLER    Maximum offset in arcsec [default=5.]\n",
    "      --meta           Show meta data? [default: True]\n",
    "      --survey SURVEY  Name of Survey to use\n",
    "      --select SELECT  Name of Survey to use [default: 0]        \n",
    "      --mplot MPLOT    Use simple matplotlib plot [default: False]"
   ]
  },
  {
   "cell_type": "markdown",
   "metadata": {},
   "source": [
    "### Examples"
   ]
  },
  {
   "cell_type": "markdown",
   "metadata": {},
   "source": [
    "#### FJ0812+32\n",
    "    run_igmspec J081241+320808 --survey KODIAQ_DR1"
   ]
  },
  {
   "cell_type": "code",
   "execution_count": null,
   "metadata": {
    "collapsed": true
   },
   "outputs": [],
   "source": []
  }
 ],
 "metadata": {
  "kernelspec": {
   "display_name": "Python 2",
   "language": "python",
   "name": "python2"
  },
  "language_info": {
   "codemirror_mode": {
    "name": "ipython",
    "version": 2
   },
   "file_extension": ".py",
   "mimetype": "text/x-python",
   "name": "python",
   "nbconvert_exporter": "python",
   "pygments_lexer": "ipython2",
   "version": "2.7.11"
  }
 },
 "nbformat": 4,
 "nbformat_minor": 0
}
