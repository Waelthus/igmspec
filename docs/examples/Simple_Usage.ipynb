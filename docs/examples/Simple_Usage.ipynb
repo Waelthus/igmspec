{
 "cells": [
  {
   "cell_type": "markdown",
   "metadata": {},
   "source": [
    "# Simple Examples for Using IGMspec (v1.0)"
   ]
  },
  {
   "cell_type": "code",
   "execution_count": 11,
   "metadata": {
    "collapsed": true
   },
   "outputs": [],
   "source": [
    "# import\n",
    "from igmspec import query_catalog as iqcat\n",
    "from igmspec import interface_db as igidb\n",
    "from igmspec import db_utils as idbu"
   ]
  },
  {
   "cell_type": "markdown",
   "metadata": {},
   "source": [
    "## Setup catalog"
   ]
  },
  {
   "cell_type": "code",
   "execution_count": 38,
   "metadata": {
    "collapsed": false
   },
   "outputs": [
    {
     "name": "stdout",
     "output_type": "stream",
     "text": [
      "Using /u/xavier/local/Python/igmspec/DB/IGMspec_DB_ver01.hdf5 for the catalog file\n"
     ]
    }
   ],
   "source": [
    "reload(iqcat)\n",
    "reload(idbu)\n",
    "qcat = iqcat.QueryCatalog()"
   ]
  },
  {
   "cell_type": "code",
   "execution_count": 39,
   "metadata": {
    "collapsed": false
   },
   "outputs": [
    {
     "data": {
      "text/plain": [
       "<QueryCatalog:  DB_file=/u/xavier/local/Python/igmspec/DB/IGMspec_DB_ver01.hdf5 with 297355 sources\n",
       "   Loaded surveys are [u'BOSS_DR12', u'HD-LLS_DR1'] \n",
       ">"
      ]
     },
     "execution_count": 39,
     "metadata": {},
     "output_type": "execute_result"
    }
   ],
   "source": [
    "qcat"
   ]
  },
  {
   "cell_type": "markdown",
   "metadata": {},
   "source": [
    "## Setup DB"
   ]
  },
  {
   "cell_type": "code",
   "execution_count": 48,
   "metadata": {
    "collapsed": false
   },
   "outputs": [
    {
     "name": "stdout",
     "output_type": "stream",
     "text": [
      "Using /u/xavier/local/Python/igmspec/DB/IGMspec_DB_ver01.hdf5 for the DB file\n",
      "Available surveys: [u'HD-LLS_DR1']\n"
     ]
    }
   ],
   "source": [
    "reload(igidb)\n",
    "idb = igidb.InterfaceDB()"
   ]
  },
  {
   "cell_type": "code",
   "execution_count": 49,
   "metadata": {
    "collapsed": false
   },
   "outputs": [
    {
     "data": {
      "text/plain": [
       "<InterfaceDB:  DB_file=/u/xavier/local/Python/igmspec/DB/IGMspec_DB_ver01.hdf5 \n",
       "   Loaded surveys are [u'HD-LLS_DR1'] \n",
       ">"
      ]
     },
     "execution_count": 49,
     "metadata": {},
     "output_type": "execute_result"
    }
   ],
   "source": [
    "idb"
   ]
  },
  {
   "cell_type": "markdown",
   "metadata": {},
   "source": [
    "## Radial search"
   ]
  },
  {
   "cell_type": "markdown",
   "metadata": {},
   "source": [
    "### Search around FJ0812+32"
   ]
  },
  {
   "cell_type": "code",
   "execution_count": 47,
   "metadata": {
    "collapsed": false
   },
   "outputs": [
    {
     "name": "stdout",
     "output_type": "stream",
     "text": [
      "Your search yielded 1 match[es]\n",
      "IGMsp_ID    RA     DEC    zem   flag_survey sig_zem flag_zem EPOCH \n",
      "-------- ------- ------- ------ ----------- ------- -------- ------\n",
      "   50734 123.170  32.136  2.698           1   0.000 BOSS_PCA 2000.0\n",
      "----------\n",
      "Survey key:\n",
      "    BOSS_DR12: 1\n",
      "    HD-LLS_DR1: 4\n"
     ]
    }
   ],
   "source": [
    "ids = qcat.radial_search(('08:12:40.68','+32:08:09'), 1.*u.arcsec)\n",
    "qcat.show_meta(ids)\n",
    "#qcat.cat[good]"
   ]
  },
  {
   "cell_type": "markdown",
   "metadata": {},
   "source": [
    "### Search around J233446.40-090812.3"
   ]
  },
  {
   "cell_type": "code",
   "execution_count": 57,
   "metadata": {
    "collapsed": false
   },
   "outputs": [
    {
     "name": "stdout",
     "output_type": "stream",
     "text": [
      "Your search yielded 1 match[es]\n",
      "IGMsp_ID\n",
      "--------\n",
      "  297352\n",
      "IGMsp_ID    RA     DEC    zem   flag_survey sig_zem flag_zem EPOCH \n",
      "-------- ------- ------- ------ ----------- ------- -------- ------\n",
      "  297352 353.693  -9.137  3.317           4   0.000     UNKN 2000.0\n",
      "----------\n",
      "Survey key:\n",
      "    BOSS_DR12: 1\n",
      "    HD-LLS_DR1: 4\n"
     ]
    }
   ],
   "source": [
    "ids = qcat.radial_search('J233446.40-090812.3', 1.*u.arcsec)\n",
    "print(ids)\n",
    "qcat.show_meta(ids)"
   ]
  },
  {
   "cell_type": "code",
   "execution_count": 63,
   "metadata": {
    "collapsed": false
   },
   "outputs": [
    {
     "name": "stdout",
     "output_type": "stream",
     "text": [
      "Using /u/xavier/local/Python/igmspec/DB/IGMspec_DB_ver01.hdf5 for the DB file\n",
      "Available surveys: [u'HD-LLS_DR1']\n",
      "> /Users/xavier/local/Python/igmspec/igmspec/interface_db.py(103)grab_spec()\n",
      "-> tmp = np.sum(data['sig'],axis=0)\n",
      "(Pdb) c\n"
     ]
    },
    {
     "name": "stderr",
     "output_type": "stream",
     "text": [
      "/Users/xavier/local/Python/linetools/linetools/spectra/xspectrum1d.py:203: UserWarning: Assuming wavelength unit is Angstroms\n",
      "  warnings.warn(\"Assuming wavelength unit is Angstroms\")\n"
     ]
    }
   ],
   "source": [
    "# Grab spectrum\n",
    "reload(igidb)\n",
    "idb = igidb.InterfaceDB()\n",
    "spec = idb.grab_spec('HD-LLS_DR1', ids)"
   ]
  },
  {
   "cell_type": "code",
   "execution_count": 65,
   "metadata": {
    "collapsed": false
   },
   "outputs": [
    {
     "data": {
      "text/latex": [
       "$[3899.7629,~3899.8929,~3900.0229,~\\dots, 0,~0,~0] \\; \\mathrm{\\mathring{A}}$"
      ],
      "text/plain": [
       "<Quantity [ 3899.76286411, 3899.8928562 , 3900.02285261,...,\n",
       "               0.        ,    0.        ,    0.        ] Angstrom>"
      ]
     },
     "execution_count": 65,
     "metadata": {},
     "output_type": "execute_result"
    }
   ],
   "source": [
    "spec.wavelength"
   ]
  },
  {
   "cell_type": "markdown",
   "metadata": {},
   "source": [
    "## Simple catalog search"
   ]
  },
  {
   "cell_type": "markdown",
   "metadata": {},
   "source": [
    "### LLS from HD-LLS vs. IGMspec"
   ]
  },
  {
   "cell_type": "code",
   "execution_count": null,
   "metadata": {
    "collapsed": true
   },
   "outputs": [],
   "source": []
  }
 ],
 "metadata": {
  "kernelspec": {
   "display_name": "Python 2",
   "language": "python",
   "name": "python2"
  },
  "language_info": {
   "codemirror_mode": {
    "name": "ipython",
    "version": 2
   },
   "file_extension": ".py",
   "mimetype": "text/x-python",
   "name": "python",
   "nbconvert_exporter": "python",
   "pygments_lexer": "ipython2",
   "version": "2.7.11"
  }
 },
 "nbformat": 4,
 "nbformat_minor": 0
}
