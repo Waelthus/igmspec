{
 "cells": [
  {
   "cell_type": "markdown",
   "metadata": {},
   "source": [
    "# Simple Examples for Using IGMspec (v1.0)"
   ]
  },
  {
   "cell_type": "code",
   "execution_count": 1,
   "metadata": {
    "collapsed": true
   },
   "outputs": [],
   "source": [
    "# import\n",
    "from igmspec import query_catalog as iqcat\n",
    "from igmspec import interface_db as igidb\n",
    "from igmspec import db_utils as idbu\n",
    "\n",
    "from pyigm.surveys.llssurvey import LLSSurvey"
   ]
  },
  {
   "cell_type": "markdown",
   "metadata": {},
   "source": [
    "## Setup catalog"
   ]
  },
  {
   "cell_type": "code",
   "execution_count": 17,
   "metadata": {
    "collapsed": false
   },
   "outputs": [
    {
     "name": "stdout",
     "output_type": "stream",
     "text": [
      "Using /u/xavier/local/Python/igmspec/DB/IGMspec_DB_ver01.hdf5 for the catalog file\n"
     ]
    }
   ],
   "source": [
    "reload(iqcat)\n",
    "reload(idbu)\n",
    "qcat = iqcat.QueryCatalog()"
   ]
  },
  {
   "cell_type": "code",
   "execution_count": 18,
   "metadata": {
    "collapsed": false
   },
   "outputs": [
    {
     "data": {
      "text/plain": [
       "<QueryCatalog:  DB_file=/u/xavier/local/Python/igmspec/DB/IGMspec_DB_ver01.hdf5 with 297355 sources\n",
       "   Loaded surveys are [u'BOSS_DR12', u'HD-LLS_DR1'] \n",
       ">"
      ]
     },
     "execution_count": 18,
     "metadata": {},
     "output_type": "execute_result"
    }
   ],
   "source": [
    "qcat"
   ]
  },
  {
   "cell_type": "markdown",
   "metadata": {},
   "source": [
    "## Setup DB"
   ]
  },
  {
   "cell_type": "code",
   "execution_count": 4,
   "metadata": {
    "collapsed": false
   },
   "outputs": [
    {
     "name": "stdout",
     "output_type": "stream",
     "text": [
      "Using /u/xavier/local/Python/igmspec/DB/IGMspec_DB_ver01.hdf5 for the DB file\n",
      "Available surveys: [u'HD-LLS_DR1']\n"
     ]
    }
   ],
   "source": [
    "reload(igidb)\n",
    "idb = igidb.InterfaceDB()"
   ]
  },
  {
   "cell_type": "code",
   "execution_count": 5,
   "metadata": {
    "collapsed": false
   },
   "outputs": [
    {
     "data": {
      "text/plain": [
       "<InterfaceDB:  DB_file=/u/xavier/local/Python/igmspec/DB/IGMspec_DB_ver01.hdf5 \n",
       "   Loaded surveys are [u'HD-LLS_DR1'] \n",
       ">"
      ]
     },
     "execution_count": 5,
     "metadata": {},
     "output_type": "execute_result"
    }
   ],
   "source": [
    "idb"
   ]
  },
  {
   "cell_type": "markdown",
   "metadata": {},
   "source": [
    "## Radial search"
   ]
  },
  {
   "cell_type": "markdown",
   "metadata": {},
   "source": [
    "### Search around FJ0812+32"
   ]
  },
  {
   "cell_type": "code",
   "execution_count": 19,
   "metadata": {
    "collapsed": false
   },
   "outputs": [
    {
     "name": "stdout",
     "output_type": "stream",
     "text": [
      "Your search yielded 1 match[es]\n",
      "IGMsp_ID    RA     DEC    zem   flag_survey sig_zem flag_zem EPOCH \n",
      "-------- ------- ------- ------ ----------- ------- -------- ------\n",
      "   50734 123.170  32.136  2.698           1   0.000 BOSS_PCA 2000.0\n",
      "----------\n",
      "Survey key:\n",
      "    BOSS_DR12: 1\n",
      "    HD-LLS_DR1: 4\n"
     ]
    }
   ],
   "source": [
    "ids = qcat.radial_search(('08:12:40.68','+32:08:09'), 1.*u.arcsec)\n",
    "qcat.show_cat(ids)"
   ]
  },
  {
   "cell_type": "markdown",
   "metadata": {},
   "source": [
    "### Search around J233446.40-090812.3"
   ]
  },
  {
   "cell_type": "code",
   "execution_count": 20,
   "metadata": {
    "collapsed": false
   },
   "outputs": [
    {
     "name": "stdout",
     "output_type": "stream",
     "text": [
      "Your search yielded 1 match[es]\n",
      "IGMsp_ID\n",
      "--------\n",
      "  297352\n",
      "IGMsp_ID    RA     DEC    zem   flag_survey sig_zem flag_zem EPOCH \n",
      "-------- ------- ------- ------ ----------- ------- -------- ------\n",
      "  297352 353.693  -9.137  3.317           4   0.000     UNKN 2000.0\n",
      "----------\n",
      "Survey key:\n",
      "    BOSS_DR12: 1\n",
      "    HD-LLS_DR1: 4\n"
     ]
    }
   ],
   "source": [
    "ids = qcat.radial_search('J233446.40-090812.3', 1.*u.arcsec)\n",
    "print(ids)\n",
    "qcat.show_cat(ids)"
   ]
  },
  {
   "cell_type": "code",
   "execution_count": 24,
   "metadata": {
    "collapsed": false
   },
   "outputs": [
    {
     "name": "stdout",
     "output_type": "stream",
     "text": [
      "Using /u/xavier/local/Python/igmspec/DB/IGMspec_DB_ver01.hdf5 for the DB file\n",
      "Available surveys: [u'HD-LLS_DR1']\n",
      "Staged 3 spectra with 0.01008 Gb\n"
     ]
    }
   ],
   "source": [
    "# Grab spectrum\n",
    "reload(igidb)\n",
    "idb = igidb.InterfaceDB()\n",
    "J2334spec = idb.grab_spec('HD-LLS_DR1', ids)"
   ]
  },
  {
   "cell_type": "code",
   "execution_count": 9,
   "metadata": {
    "collapsed": false
   },
   "outputs": [],
   "source": [
    "J2334spec.plot()"
   ]
  },
  {
   "cell_type": "markdown",
   "metadata": {},
   "source": [
    "----"
   ]
  },
  {
   "cell_type": "markdown",
   "metadata": {},
   "source": [
    "## Simple catalog search"
   ]
  },
  {
   "cell_type": "markdown",
   "metadata": {},
   "source": [
    "### LLS from SDSS_DR7 vs. IGMspec"
   ]
  },
  {
   "cell_type": "code",
   "execution_count": 10,
   "metadata": {
    "collapsed": false
   },
   "outputs": [
    {
     "name": "stdout",
     "output_type": "stream",
     "text": [
      "SDSS-DR7: Loading LLS file /Users/xavier/local/Python/pyigm/pyigm/data/LLS/SDSS/lls_dr7_stat_LLS.fits.gz\n",
      "SDSS-DR7: Loading QSOs file /Users/xavier/local/Python/pyigm/pyigm/data/LLS/SDSS/lls_dr7_qsos_sn2050.fits.gz\n"
     ]
    },
    {
     "data": {
      "text/plain": [
       "<IGMSurvey: nsys=1935, type=LLS, ref=SDSS-DR7, nsightlines=3759>"
      ]
     },
     "execution_count": 10,
     "metadata": {},
     "output_type": "execute_result"
    }
   ],
   "source": [
    "sdss_dr7_all = LLSSurvey.load_SDSS_DR7(sample='all')\n",
    "sdss_dr7_all"
   ]
  },
  {
   "cell_type": "code",
   "execution_count": 13,
   "metadata": {
    "collapsed": false
   },
   "outputs": [
    {
     "data": {
      "text/plain": [
       "<SkyCoord (ICRS): (ra, dec) in deg\n",
       "    [(339.61320833, 13.90905556), (160.36441667, 2.65569444),\n",
       "     (167.247, 3.19108333), ..., (230.02470833, 23.66472222),\n",
       "     (124.528625, 7.32227778), (150.86345833, 22.97005556)]>"
      ]
     },
     "execution_count": 13,
     "metadata": {},
     "output_type": "execute_result"
    }
   ],
   "source": [
    "# Grab the coord\n",
    "lls_coord = sdss_dr7_all.coord\n",
    "lls_coord"
   ]
  },
  {
   "cell_type": "code",
   "execution_count": 15,
   "metadata": {
    "collapsed": false
   },
   "outputs": [
    {
     "name": "stdout",
     "output_type": "stream",
     "text": [
      "Your search yielded 1659 matches\n"
     ]
    }
   ],
   "source": [
    "# Match\n",
    "lls_ids = qcat.match_coord(lls_coord)"
   ]
  },
  {
   "cell_type": "code",
   "execution_count": 22,
   "metadata": {
    "collapsed": false
   },
   "outputs": [
    {
     "name": "stdout",
     "output_type": "stream",
     "text": [
      "IGMsp_ID    RA     DEC    zem   flag_survey sig_zem flag_zem EPOCH \n",
      "-------- ------- ------- ------ ----------- ------- -------- ------\n",
      "     881   0.751  16.008  3.662           1   0.002 BOSS_PCA 2000.0\n",
      "     897   0.764 -10.864  3.638           1   0.001 BOSS_PCA 2000.0\n",
      "    1680   1.402  13.997  3.709           1   0.002 BOSS_PCA 2000.0\n",
      "    2168   1.878  16.126  3.519           1   0.002 BOSS_PCA 2000.0\n",
      "    3248   2.813  14.767  4.986           1   0.003 BOSS_PCA 2000.0\n",
      "    5192   4.558  14.415  4.216           1   0.001 BOSS_PCA 2000.0\n",
      "    5225   4.586  14.314  3.938           1   0.004 BOSS_PCA 2000.0\n",
      "    5482   4.827  15.103  4.145           1   0.003 BOSS_PCA 2000.0\n",
      "    5617   4.959  -0.678  4.319           1   0.010 BOSS_PCA 2000.0\n",
      "    5987   5.334  15.857  3.690           1   0.001 BOSS_PCA 2000.0\n",
      "     ...     ...     ...    ...         ...     ...      ...    ...\n",
      "  285593 347.707  14.150  3.838           1   0.002 BOSS_PCA 2000.0\n",
      "  289138 351.825   0.096  3.682           1   0.004 BOSS_PCA 2000.0\n",
      "  290556 353.376  15.427  3.678           1   0.001 BOSS_PCA 2000.0\n",
      "  292090 355.015  14.049  4.531           1  -1.000 BOSS_PCA 2000.0\n",
      "  292201 355.140  -0.944  3.657           1   0.001 BOSS_PCA 2000.0\n",
      "  295511 358.434  14.590  4.237           1   0.009 BOSS_PCA 2000.0\n",
      "  297317  56.012  -6.883  3.957           4   0.000     UNKN 2000.0\n",
      "  297321 112.956  28.913  3.676           4   0.000     UNKN 2000.0\n",
      "  297327 167.536   2.749  4.149           4   0.000     UNKN 2000.0\n",
      "  297334 210.700   1.776  4.187           4   0.000     UNKN 2000.0\n",
      "  297348 345.756  -9.659  3.455           4   0.000     UNKN 2000.0\n",
      "Length = 1659 rows\n",
      "----------\n",
      "Survey key:\n",
      "    BOSS_DR12: 1\n",
      "    HD-LLS_DR1: 4\n"
     ]
    }
   ],
   "source": [
    "# Show cat\n",
    "qcat.show_cat(lls_ids)"
   ]
  },
  {
   "cell_type": "code",
   "execution_count": 25,
   "metadata": {
    "collapsed": false
   },
   "outputs": [
    {
     "name": "stdout",
     "output_type": "stream",
     "text": [
      "Staged 27 spectra with 0.09072 Gb\n"
     ]
    }
   ],
   "source": [
    "# Grab HD-LLS spec\n",
    "LLSspec = idb.grab_spec('HD-LLS_DR1', lls_ids)"
   ]
  },
  {
   "cell_type": "code",
   "execution_count": null,
   "metadata": {
    "collapsed": true
   },
   "outputs": [],
   "source": []
  }
 ],
 "metadata": {
  "kernelspec": {
   "display_name": "Python 2",
   "language": "python",
   "name": "python2"
  },
  "language_info": {
   "codemirror_mode": {
    "name": "ipython",
    "version": 2
   },
   "file_extension": ".py",
   "mimetype": "text/x-python",
   "name": "python",
   "nbconvert_exporter": "python",
   "pygments_lexer": "ipython2",
   "version": "2.7.11"
  }
 },
 "nbformat": 4,
 "nbformat_minor": 0
}
